{
 "cells": [
  {
   "cell_type": "code",
   "execution_count": 1,
   "id": "27b5e58a-fab3-4589-88b3-a9c21019d2a9",
   "metadata": {},
   "outputs": [],
   "source": [
    "import pandas as pd\n",
    "import numpy as np\n",
    "import matplotlib.pyplot as plt"
   ]
  },
  {
   "cell_type": "code",
   "execution_count": 2,
   "id": "dae4fb6e-30bb-4c10-8d6b-28c3ebc010ef",
   "metadata": {},
   "outputs": [],
   "source": [
    "#load the yeast decoding time data from \n",
    "#Chu et al 2014\n",
    "time_data = pd.read_csv('Data/decoding_time_data_Chu_2014.csv')\n",
    "time_lookup = dict(zip(time_data['codon'],time_data['decoding.time']))"
   ]
  },
  {
   "cell_type": "code",
   "execution_count": 3,
   "id": "82338e13-e343-4a0f-ad7b-6c017540c57a",
   "metadata": {},
   "outputs": [],
   "source": [
    "is_PETase = 'ATGAACTTTCCCCGCGCTTCCCGCCTGATGCAGGCCGCCGTTCTCGGCGGGCTGATGGCCGTGTCGGCCGCCGCCACCGCCCAGACCAACCCCTACGCCCGCGGCCCGAACCCGACAGCCGCCTCACTCGAAGCCAGCGCCGGCCCGTTCACCGTGCGCTCGTTCACCGTGAGCCGCCCGAGCGGCTACGGCGCCGGCACCGTGTACTACCCCACCAACGCCGGCGGCACCGTGGGCGCCATCGCCATCGTGCCGGGCTACACCGCGCGCCAGTCGAGCATCAAATGGTGGGGCCCGCGCCTGGCCTCGCACGGCTTCGTGGTCATCACCATCGACACCAACTCCACGCTCGACCAGCCGTCCAGCCGCTCGTCGCAGCAGATGGCCGCGCTGCGCCAGGTGGCCTCGCTCAACGGCACCAGCAGCAGCCCGATCTACGGCAAGGTCGACACCGCCCGCATGGGCGTGATGGGCTGGTCGATGGGCGGTGGCGGCTCGCTGATCTCGGCGGCCAACAACCCGTCGCTGAAAGCCGCGGCGCCGCAGGCCCCGTGGGACAGCTCGACCAACTTCTCGTCGGTCACCGTGCCCACGCTGATCTTCGCCTGCGAGAACGACAGCATCGCCCCGGTCAACTCGTCCGCCCTGCCGATCTACGACAGCATGTCGCGCAATGCGAAGCAGTTCCTCGAGATCAACGGTGGCTCGCACTCCTGCGCCAACAGCGGCAACAGCAACCAGGCGCTGATCGGCAAGAAGGGCGTGGCCTGGATGAAGCGCTTCATGGACAACGACACGCGCTACTCCACCTTCGCCTGCGAGAACCCGAACAGCACCCGCGTGTCGGACTTCCGCACCGCGAACTGCAGC'\n",
    "#sc_PETase is the optimised ORF without S. cerevisiae signal sequence or HA tag\n",
    "sc_PETase = 'ATGAACTTTCCGAGAGCGTCCAGATTGATGCAAGCGGCGGTCTTGGGTGGTTTGATGGCGGTCTCCGCGGCGGCGACTGCGCAAACTAACCCGTACGCGAGAGGTCCGAACCCGACTGCGGCGTCCTTGGAAGCGTCCGCGGGTCCGTTTACTGTCAGATCCTTTACTGTCTCCAGACCGTCCGGTTACGGTGCGGGTACTGTCTACTACCCGACTAACGCGGGTGGTACTGTCGGTGCGATTGCGATTGTCCCGGGTTACACTGCGAGACAATCCTCCATTAAATGGTGGGGTCCGAGATTGGCGTCCCATGGTTTTGTCGTCATTACTATTGACACTAACTCCACTTTGGACCAACCGTCCTCCAGATCCTCCCAACAAATGGCGGCGTTGAGACAAGTCGCGTCCTTGAACGGTACTTCCTCCTCCCCGATTTACGGTAAAGTCGACACTGCGAGAATGGGTGTCATGGGTTGGTCCATGGGTGGTGGTGGTTCCTTGATTTCCGCGGCGAACAACCCGTCCTTGAAAGCGGCGGCGCCGCAAGCGCCGTGGGACTCCTCCACTAACTTTTCCTCCGTCACTGTCCCGACTTTGATTTTTGCGTGCGAAAACGACTCCATTGCGCCGGTCAACTCCTCCGCGTTGCCGATTTACGACTCCATGTCCAGAAACGCGAAACAATTTTTGGAAATTAACGGTGGTTCCCATTCCTGCGCGAACTCCGGTAACTCCAACCAAGCGTTGATTGGTAAAAAAGGTGTCGCGTGGATGAAAAGATTTATGGACAACGACACTAGATACTCCACTTTTGCGTGCGAAAACCCGAACTCCACTAGAGTCTCCGACTTTAGAACTGCGAACTGCTCC'"
   ]
  },
  {
   "cell_type": "code",
   "execution_count": 4,
   "id": "fd871b2e-4007-4aed-9ce8-1c761f196e45",
   "metadata": {},
   "outputs": [],
   "source": [
    "#convert sequences into RNA codons then into decoding times\n",
    "is_PETase = is_PETase.replace('T','U')\n",
    "is_codons = [is_PETase[n:n+3] for n in range(0,len(is_PETase),3)]\n",
    "is_times = []\n",
    "for codon in is_codons:\n",
    "    is_times.append(time_lookup[codon])\n",
    "sc_PETase = sc_PETase.replace('T','U')\n",
    "sc_codons = [sc_PETase[n:n+3] for n in range(0,len(sc_PETase),3)]\n",
    "sc_times = []\n",
    "for codon in sc_codons:\n",
    "    sc_times.append(time_lookup[codon])"
   ]
  },
  {
   "cell_type": "code",
   "execution_count": 5,
   "id": "298301a6-5754-45d5-bd96-c7a5cf4e5521",
   "metadata": {},
   "outputs": [
    {
     "data": {
      "image/png": "[encoded data removed]",
      "text/plain": [
       "<Figure size 600x200 with 2 Axes>"
      ]
     },
     "metadata": {},
     "output_type": "display_data"
    }
   ],
   "source": [
    "times_for_plotting = np.array([is_times, sc_times])\n",
    "fig,ax = plt.subplots(figsize=(6,2))\n",
    "a = ax.imshow(times_for_plotting, cmap='gist_yarg', aspect='auto', interpolation = 'none',vmin=0.05, vmax=1.5)\n",
    "fig.colorbar(a, ax=ax, orientation = 'horizontal', location = 'top', ticks = [])\n",
    "ax.axis('off')\n",
    "#plt.savefig('PETase_optimisation.svg')\n",
    "plt.show()"
   ]
  },
  {
   "cell_type": "code",
   "execution_count": 6,
   "id": "c0af8936-0eeb-443b-ab48-9a596cfccbbd",
   "metadata": {},
   "outputs": [
    {
     "name": "stdout",
     "output_type": "stream",
     "text": [
      "Estimated decoding_time for is_PETase is 89.3 sec.\n",
      "Estimated decoding_time for sc_PETase is 29.4 sec.\n"
     ]
    }
   ],
   "source": [
    "print('Estimated decoding_time for is_PETase is ' + '{:.1f}'.format(sum(is_times)) + ' sec.')\n",
    "print('Estimated decoding_time for sc_PETase is ' + '{:.1f}'.format(sum(sc_times)) + ' sec.')"
   ]
  },
  {
   "cell_type": "code",
   "execution_count": null,
   "id": "738d8e11-52f9-4eab-8008-14f28463d1d9",
   "metadata": {},
   "outputs": [],
   "source": []
  }
 ],
 "metadata": {
  "kernelspec": {
   "display_name": "Python 3 (ipykernel)",
   "language": "python",
   "name": "python3"
  },
  "language_info": {
   "codemirror_mode": {
    "name": "ipython",
    "version": 3
   },
   "file_extension": ".py",
   "mimetype": "text/x-python",
   "name": "python",
   "nbconvert_exporter": "python",
   "pygments_lexer": "ipython3",
   "version": "3.9.13"
  }
 },
 "nbformat": 4,
 "nbformat_minor": 5
}
