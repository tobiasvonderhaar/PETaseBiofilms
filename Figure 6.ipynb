{
 "cells": [
  {
   "cell_type": "code",
   "execution_count": 1,
   "id": "5374a18a-af6d-4ea6-883f-fe5d49afd531",
   "metadata": {},
   "outputs": [],
   "source": [
    "import pandas as pd\n",
    "import matplotlib.pyplot as plt\n",
    "import matplotlib as mpl\n",
    "from scipy.stats import f_oneway\n",
    "from statsmodels.stats.multicomp import pairwise_tukeyhsd"
   ]
  },
  {
   "cell_type": "code",
   "execution_count": 2,
   "id": "02dcbd52-877c-4d6c-88e5-9c2b5245fbb3",
   "metadata": {},
   "outputs": [],
   "source": [
    "#import and clean up data\n",
    "growth_data = pd.read_csv('Data/230623 BHET growth curve.csv',skiprows = 6)\n",
    "#remove superfluous columns\n",
    "growth_data = growth_data.drop(labels = ['Unnamed: 1','Time'],axis=1)\n",
    "#replace labels\n",
    "colnames = list(growth_data.columns)\n",
    "colnames[0] = 'Sample'\n",
    "growth_data.columns = colnames\n",
    "growth_data = growth_data.replace(to_replace='A',value='BHET')\n",
    "growth_data = growth_data.replace(to_replace='B',value='MHET')\n",
    "growth_data = growth_data.replace(to_replace='C',value='Glucose')\n",
    "growth_data = growth_data.replace(to_replace='D',value='Control')\n",
    "#drop rows where values are <0.1 which are empty on the plate\n",
    "growth_data = growth_data.loc[growth_data['0 h '] > 0.1]\n",
    "mean_growth_data = growth_data.groupby('Sample').mean()"
   ]
  },
  {
   "cell_type": "code",
   "execution_count": 3,
   "id": "40f654b1-40ef-4e18-97f1-9d7cb744f10e",
   "metadata": {},
   "outputs": [
    {
     "data": {
      "image/png": "[encoded data removed]",
      "text/plain": [
       "<Figure size 640x480 with 1 Axes>"
      ]
     },
     "metadata": {},
     "output_type": "display_data"
    }
   ],
   "source": [
    "mpl.rcParams['axes.prop_cycle'] = mpl.cycler(color=[\"lightgray\", \"gray\", \"black\"])\n",
    "\n",
    "fig,ax = plt.subplots()\n",
    "\n",
    "x = range(0,mean_growth_data.shape[1]*8,8)\n",
    "\n",
    "for sample in ['Control','Glucose','BHET']:\n",
    "    ax.scatter(x,mean_growth_data.loc[sample].values,s = 5,label=sample)\n",
    "ax.set_xlim((0,1500))\n",
    "ax.set_ylim((0,1.5))\n",
    "ax.set_yticks([0,0.5,1,1.5])\n",
    "ax.set_xticks([300,600,900,1200])\n",
    "ax.set_xticklabels([5,10,15,20])\n",
    "ax.set_xlabel('time (hours)')\n",
    "ax.set_ylabel(r\"$oD_{600}$\")\n",
    "ax.legend()\n",
    "#plt.savefig('BHET_growth.svg')\n",
    "plt.show()"
   ]
  },
  {
   "cell_type": "code",
   "execution_count": 4,
   "id": "a12ee97e-a905-4105-9d7a-a80693406c75",
   "metadata": {},
   "outputs": [
    {
     "data": {
      "text/html": [
       "<div>\n",
       "<style scoped>\n",
       "    .dataframe tbody tr th:only-of-type {\n",
       "        vertical-align: middle;\n",
       "    }\n",
       "\n",
       "    .dataframe tbody tr th {\n",
       "        vertical-align: top;\n",
       "    }\n",
       "\n",
       "    .dataframe thead th {\n",
       "        text-align: right;\n",
       "    }\n",
       "</style>\n",
       "<table border=\"1\" class=\"dataframe\">\n",
       "  <thead>\n",
       "    <tr style=\"text-align: right;\">\n",
       "      <th></th>\n",
       "      <th>Date</th>\n",
       "      <th>Sample</th>\n",
       "      <th>oD t0</th>\n",
       "      <th>oD t48</th>\n",
       "      <th>increase</th>\n",
       "    </tr>\n",
       "  </thead>\n",
       "  <tbody>\n",
       "    <tr>\n",
       "      <th>0</th>\n",
       "      <td>230901</td>\n",
       "      <td>BHET</td>\n",
       "      <td>328</td>\n",
       "      <td>486.000000</td>\n",
       "      <td>1.481707</td>\n",
       "    </tr>\n",
       "    <tr>\n",
       "      <th>1</th>\n",
       "      <td>230901</td>\n",
       "      <td>EG</td>\n",
       "      <td>492</td>\n",
       "      <td>654.000000</td>\n",
       "      <td>1.329268</td>\n",
       "    </tr>\n",
       "    <tr>\n",
       "      <th>2</th>\n",
       "      <td>230901</td>\n",
       "      <td>DMSO</td>\n",
       "      <td>437</td>\n",
       "      <td>386.000000</td>\n",
       "      <td>0.883295</td>\n",
       "    </tr>\n",
       "    <tr>\n",
       "      <th>3</th>\n",
       "      <td>230904</td>\n",
       "      <td>BHET</td>\n",
       "      <td>300</td>\n",
       "      <td>650.000000</td>\n",
       "      <td>2.166667</td>\n",
       "    </tr>\n",
       "    <tr>\n",
       "      <th>4</th>\n",
       "      <td>230904</td>\n",
       "      <td>TPA</td>\n",
       "      <td>300</td>\n",
       "      <td>445.333333</td>\n",
       "      <td>1.484444</td>\n",
       "    </tr>\n",
       "  </tbody>\n",
       "</table>\n",
       "</div>"
      ],
      "text/plain": [
       "     Date Sample  oD t0      oD t48  increase\n",
       "0  230901   BHET    328  486.000000  1.481707\n",
       "1  230901     EG    492  654.000000  1.329268\n",
       "2  230901   DMSO    437  386.000000  0.883295\n",
       "3  230904   BHET    300  650.000000  2.166667\n",
       "4  230904    TPA    300  445.333333  1.484444"
      ]
     },
     "execution_count": 4,
     "metadata": {},
     "output_type": "execute_result"
    }
   ],
   "source": [
    "endpoints = pd.read_csv('Data/231020 Carbon Source Tests.csv')\n",
    "endpoints['increase'] = endpoints['oD t48'] / endpoints['oD t0']\n",
    "endpoints.head()"
   ]
  },
  {
   "cell_type": "code",
   "execution_count": 5,
   "id": "9fbb8dd9-3150-446e-84cc-b080dd2b1038",
   "metadata": {},
   "outputs": [
    {
     "data": {
      "text/html": [
       "<div>\n",
       "<style scoped>\n",
       "    .dataframe tbody tr th:only-of-type {\n",
       "        vertical-align: middle;\n",
       "    }\n",
       "\n",
       "    .dataframe tbody tr th {\n",
       "        vertical-align: top;\n",
       "    }\n",
       "\n",
       "    .dataframe thead th {\n",
       "        text-align: right;\n",
       "    }\n",
       "</style>\n",
       "<table border=\"1\" class=\"dataframe\">\n",
       "  <thead>\n",
       "    <tr style=\"text-align: right;\">\n",
       "      <th></th>\n",
       "      <th>Sample</th>\n",
       "      <th>mean</th>\n",
       "      <th>s.e.m.</th>\n",
       "    </tr>\n",
       "  </thead>\n",
       "  <tbody>\n",
       "    <tr>\n",
       "      <th>0</th>\n",
       "      <td>BHET</td>\n",
       "      <td>2.029675</td>\n",
       "      <td>0.181934</td>\n",
       "    </tr>\n",
       "    <tr>\n",
       "      <th>1</th>\n",
       "      <td>TPA</td>\n",
       "      <td>1.484444</td>\n",
       "      <td>0.406852</td>\n",
       "    </tr>\n",
       "    <tr>\n",
       "      <th>2</th>\n",
       "      <td>EG</td>\n",
       "      <td>1.376965</td>\n",
       "      <td>0.041651</td>\n",
       "    </tr>\n",
       "    <tr>\n",
       "      <th>3</th>\n",
       "      <td>DMSO</td>\n",
       "      <td>1.136659</td>\n",
       "      <td>0.098944</td>\n",
       "    </tr>\n",
       "    <tr>\n",
       "      <th>4</th>\n",
       "      <td>Glucose</td>\n",
       "      <td>38.436667</td>\n",
       "      <td>4.911251</td>\n",
       "    </tr>\n",
       "  </tbody>\n",
       "</table>\n",
       "</div>"
      ],
      "text/plain": [
       "    Sample       mean    s.e.m.\n",
       "0     BHET   2.029675  0.181934\n",
       "1      TPA   1.484444  0.406852\n",
       "2       EG   1.376965  0.041651\n",
       "3     DMSO   1.136659  0.098944\n",
       "4  Glucose  38.436667  4.911251"
      ]
     },
     "execution_count": 5,
     "metadata": {},
     "output_type": "execute_result"
    }
   ],
   "source": [
    "increase = endpoints.groupby('Sample').mean()['increase']\n",
    "sterr = endpoints.groupby('Sample').sem()['increase']\n",
    "summary = pd.concat([increase,sterr], axis = 1)\n",
    "summary.columns = ['mean','s.e.m.']\n",
    "summary=summary.reindex(['BHET','TPA','EG','DMSO','Glucose'])\n",
    "summary = summary.reset_index()\n",
    "summary"
   ]
  },
  {
   "cell_type": "code",
   "execution_count": 6,
   "id": "ec9eb0af-9486-47f8-926d-ad0253af60ae",
   "metadata": {},
   "outputs": [
    {
     "data": {
      "text/html": [
       "<div>\n",
       "<style scoped>\n",
       "    .dataframe tbody tr th:only-of-type {\n",
       "        vertical-align: middle;\n",
       "    }\n",
       "\n",
       "    .dataframe tbody tr th {\n",
       "        vertical-align: top;\n",
       "    }\n",
       "\n",
       "    .dataframe thead th {\n",
       "        text-align: right;\n",
       "    }\n",
       "</style>\n",
       "<table border=\"1\" class=\"dataframe\">\n",
       "  <thead>\n",
       "    <tr style=\"text-align: right;\">\n",
       "      <th></th>\n",
       "      <th>df</th>\n",
       "      <th>sum_sq</th>\n",
       "      <th>mean_sq</th>\n",
       "      <th>F</th>\n",
       "      <th>PR(&gt;F)</th>\n",
       "    </tr>\n",
       "  </thead>\n",
       "  <tbody>\n",
       "    <tr>\n",
       "      <th>Sample</th>\n",
       "      <td>3.0</td>\n",
       "      <td>2.138264</td>\n",
       "      <td>0.712755</td>\n",
       "      <td>3.713765</td>\n",
       "      <td>0.035277</td>\n",
       "    </tr>\n",
       "    <tr>\n",
       "      <th>Residual</th>\n",
       "      <td>15.0</td>\n",
       "      <td>2.878836</td>\n",
       "      <td>0.191922</td>\n",
       "      <td>NaN</td>\n",
       "      <td>NaN</td>\n",
       "    </tr>\n",
       "  </tbody>\n",
       "</table>\n",
       "</div>"
      ],
      "text/plain": [
       "            df    sum_sq   mean_sq         F    PR(>F)\n",
       "Sample     3.0  2.138264  0.712755  3.713765  0.035277\n",
       "Residual  15.0  2.878836  0.191922       NaN       NaN"
      ]
     },
     "execution_count": 6,
     "metadata": {},
     "output_type": "execute_result"
    }
   ],
   "source": [
    "import statsmodels.api as sm \n",
    "from statsmodels.formula.api import ols\n",
    "from statsmodels.stats.anova import anova_lm\n",
    "from statsmodels.stats.multicomp import pairwise_tukeyhsd\n",
    "\n",
    "#drop glucose values from dataset\n",
    "endpoints = endpoints.loc[endpoints['Sample']!='Glucose']\n",
    "\n",
    "one_way_anova = ols('increase ~ Sample',data=endpoints).fit()\n",
    "sm.stats.anova_lm(one_way_anova,type=2)"
   ]
  },
  {
   "cell_type": "code",
   "execution_count": 7,
   "id": "5e56f0e3-5b78-4e19-bff3-6198748a043d",
   "metadata": {},
   "outputs": [
    {
     "name": "stdout",
     "output_type": "stream",
     "text": [
      "Multiple Comparison of Means - Tukey HSD, FWER=0.05 \n",
      "====================================================\n",
      "group1 group2 meandiff p-adj   lower   upper  reject\n",
      "----------------------------------------------------\n",
      "  BHET   DMSO   -0.893 0.0261 -1.6916 -0.0945   True\n",
      "  BHET     EG  -0.6527 0.1293 -1.4513  0.1459  False\n",
      "  BHET    TPA  -0.5452 0.2875 -1.3922  0.3018  False\n",
      "  DMSO     EG   0.2403 0.8214 -0.5583  1.0389  False\n",
      "  DMSO    TPA   0.3478  0.646 -0.4992  1.1948  False\n",
      "    EG    TPA   0.1075 0.9826 -0.7395  0.9545  False\n",
      "----------------------------------------------------\n"
     ]
    }
   ],
   "source": [
    "\n",
    "tukey = pairwise_tukeyhsd(endog=endpoints['increase'],\n",
    "                          groups=endpoints['Sample'],\n",
    "                          alpha=0.05)\n",
    "print(tukey)"
   ]
  },
  {
   "cell_type": "code",
   "execution_count": 8,
   "id": "9f534bfd-5a09-44e5-89cc-b552ba028b03",
   "metadata": {},
   "outputs": [
    {
     "data": {
      "image/png": "[encoded data removed]",
      "text/plain": [
       "<Figure size 640x480 with 2 Axes>"
      ]
     },
     "metadata": {},
     "output_type": "display_data"
    }
   ],
   "source": [
    "fig, (ax1, ax2) = plt.subplots(2, 1, sharex=True)\n",
    "fig.subplots_adjust(hspace=0.2)\n",
    "#plot values on broken axes\n",
    "ax1.bar(summary['Sample'],summary['mean'],color = 'black')\n",
    "ax2.bar(summary['Sample'],summary['mean'],color = 'black')\n",
    "for idx,eb in enumerate(['BHET','TPA','EG','DMSO']):\n",
    "    row = summary.loc[summary['Sample']==eb]\n",
    "    bottom = row['mean'].values[0] - row['s.e.m.'].values[0]\n",
    "    top = row['mean'].values[0] + row['s.e.m.'].values[0]\n",
    "    ax1.plot((idx,idx),(bottom,top),color='grey')\n",
    "    ax2.plot((idx,idx),(bottom,top),color='grey')\n",
    "ax1.set_ylim(35, 40)  \n",
    "ax2.set_ylim(0, 3)  \n",
    "#add stats information\n",
    "ax2.plot((0,0),(2.4,2.7),color='black')\n",
    "ax2.plot((0,3),(2.7,2.7),color='black')\n",
    "ax2.plot((3,3),(2.4,2.7),color='black')\n",
    "ax2.text(1.5,3,'p=0.026',horizontalalignment='center')\n",
    "#adjust the axis properties to make sense of the borken axis\n",
    "ax1.spines.bottom.set_visible(False)\n",
    "ax2.spines.top.set_visible(False)\n",
    "ax1.xaxis.tick_top()\n",
    "ax1.tick_params(labeltop=False) \n",
    "ax2.xaxis.tick_bottom()\n",
    "#plt.savefig('Carbon Sources Endpoint Assay.svg')\n",
    "plt.show()"
   ]
  },
  {
   "cell_type": "code",
   "execution_count": null,
   "id": "f41aec24-ebcf-4cc0-ace1-77d78d4d92c8",
   "metadata": {},
   "outputs": [],
   "source": []
  }
 ],
 "metadata": {
  "kernelspec": {
   "display_name": "Python 3 (ipykernel)",
   "language": "python",
   "name": "python3"
  },
  "language_info": {
   "codemirror_mode": {
    "name": "ipython",
    "version": 3
   },
   "file_extension": ".py",
   "mimetype": "text/x-python",
   "name": "python",
   "nbconvert_exporter": "python",
   "pygments_lexer": "ipython3",
   "version": "3.9.13"
  }
 },
 "nbformat": 4,
 "nbformat_minor": 5
}
